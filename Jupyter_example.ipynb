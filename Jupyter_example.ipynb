{
 "cells": [
  {
   "cell_type": "code",
   "execution_count": 5,
   "id": "9f32ad7a",
   "metadata": {},
   "outputs": [],
   "source": [
    "import time\n",
    "import numpy as np\n",
    "import os"
   ]
  },
  {
   "cell_type": "code",
   "execution_count": 6,
   "id": "9f337ecd",
   "metadata": {},
   "outputs": [],
   "source": [
    "x=np.random.rand(300,200)\n",
    "y=np.random.rand(200,300)"
   ]
  },
  {
   "cell_type": "code",
   "execution_count": 7,
   "id": "274c1b11",
   "metadata": {},
   "outputs": [],
   "source": [
    "start=time.time()\n",
    "z=np.matmul(x,y)\n",
    "end=time.time()"
   ]
  },
  {
   "cell_type": "code",
   "execution_count": 8,
   "id": "bb5c580b",
   "metadata": {},
   "outputs": [
    {
     "name": "stdout",
     "output_type": "stream",
     "text": [
      "Finished in 0.0019369125366210938\n"
     ]
    }
   ],
   "source": [
    "print(f'Finished in {end-start}')"
   ]
  },
  {
   "cell_type": "code",
   "execution_count": 103,
   "id": "88f914ef",
   "metadata": {},
   "outputs": [
    {
     "data": {
      "text/plain": [
       "0"
      ]
     },
     "execution_count": 103,
     "metadata": {},
     "output_type": "execute_result"
    }
   ],
   "source": [
    "address=\"powershell Set-ExecutionPolicy -ExecutionPolicy RemoteSigned -Scope Process; .\\email.ps1\"\n",
    "#also set the pocily if restricted\n",
    "\n",
    "To=\"\"\"'youremail@ou.edu'\"\"\"\n",
    "From=\"\"\"'notificationemail@gmail.com' 'password'\"\"\"\n",
    "Subject=\"\"\"'Jupyter Test'\"\"\"\n",
    "Name=\"\"\"'From Jupyter'\"\"\"\n",
    "Body=\"\"\"'\"\"\"+'Execution time was: '+str(end-start)+\"\"\"'\"\"\"\n",
    "command=' '.join([address,To,From,Subject,Name,Body])\n",
    "\n",
    "#execute\n",
    "os.system(command)"
   ]
  }
 ],
 "metadata": {
  "kernelspec": {
   "display_name": "Python 3",
   "language": "python",
   "name": "python3"
  },
  "language_info": {
   "codemirror_mode": {
    "name": "ipython",
    "version": 3
   },
   "file_extension": ".py",
   "mimetype": "text/x-python",
   "name": "python",
   "nbconvert_exporter": "python",
   "pygments_lexer": "ipython3",
   "version": "3.8.6"
  }
 },
 "nbformat": 4,
 "nbformat_minor": 5
}
